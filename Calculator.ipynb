{
  "nbformat": 4,
  "nbformat_minor": 0,
  "metadata": {
    "colab": {
      "name": "Calculator.ipynb",
      "provenance": []
    },
    "kernelspec": {
      "name": "python3",
      "display_name": "Python 3"
    },
    "language_info": {
      "name": "python"
    }
  },
  "cells": [
    {
      "cell_type": "code",
      "execution_count": 8,
      "metadata": {
        "colab": {
          "base_uri": "https://localhost:8080/"
        },
        "id": "wU6BG0VtV85t",
        "outputId": "379ee04c-1dd8-461a-cf32-87ddd846a987"
      },
      "outputs": [
        {
          "output_type": "stream",
          "name": "stdout",
          "text": [
            "Select operation\n",
            "1. Add\n",
            "1. Subtract\n",
            "1. Multiply\n",
            "1. Divide\n",
            "Enter your choice (1/2/3/4) 4\n",
            "Enter first number : 10\n",
            "Enter second number : 2\n",
            "10.0 / 2.0 = 5.0\n"
          ]
        }
      ],
      "source": [
        "# Program to make a simple calculator using FUNCTIONS\n",
        "\n",
        "#Function for addition\n",
        "def add(x,y):\n",
        "  return x+y\n",
        "\n",
        "#Function for subtraction\n",
        "def subtract(x,y):\n",
        "  return x-y\n",
        "\n",
        "#Function for multiplication\n",
        "def multiply(x,y):\n",
        "  return x*y\n",
        "\n",
        "#Function for division\n",
        "def divide(x,y):\n",
        "  return x/y\n",
        "\n",
        "print(\"Select operation\")\n",
        "print(\"1. Add\")\n",
        "print(\"1. Subtract\")\n",
        "print(\"1. Multiply\")\n",
        "print(\"1. Divide\")\n",
        "\n",
        "while True:\n",
        "  choice=input(\"Enter your choice (1/2/3/4) \")\n",
        "  if choice in ('1','2','3','4'):\n",
        "    num1=float(input(\"Enter first number : \"))\n",
        "    num2=float(input(\"Enter second number : \"))\n",
        "\n",
        "    if(choice=='1'):\n",
        "      print(num1,\"+\",num2,\"=\",add(num1,num2))\n",
        "    elif(choice=='2'):\n",
        "      print(num1,\"-\",num2,\"=\",subtract(num1,num2))\n",
        "    elif(choice=='3'):\n",
        "      print(num1,\"*\",num2,\"=\",multiply(num1,num2))\n",
        "    elif(choice=='4'):\n",
        "      print(num1,\"/\",num2,\"=\",divide(num1,num2))\n",
        "    break\n",
        "  else:\n",
        "    print(\"Invalid input\")\n",
        "      \n",
        "\n",
        "\n"
      ]
    }
  ]
}